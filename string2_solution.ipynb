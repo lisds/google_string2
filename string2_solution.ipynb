{
 "cells": [
  {
   "cell_type": "markdown",
   "id": "5cd9db9f",
   "metadata": {},
   "source": [
    "# Basic string exercises 2\n",
    "\n",
    "Copyright 2010 Google Inc. Licensed under the Apache License, Version 2.0\n",
    "<http://www.apache.org/licenses/LICENSE-2.0>\n",
    "\n",
    "Google's Python Class:\n",
    "<http://code.google.com/edu/languages/google-python-class/>\n"
   ]
  },
  {
   "cell_type": "markdown",
   "id": "6568d67d",
   "metadata": {},
   "source": [
    "## Introduction"
   ]
  },
  {
   "cell_type": "markdown",
   "id": "e5f843f1",
   "metadata": {},
   "source": [
    "You might want to read the [Google course chapter on\n",
    "strings](https://developers.google.com/edu/python/strings).\n",
    "\n",
    "Fill in the code for the functions below.\n",
    "\n",
    "When you have filled in the code for the function, run the tests for the function in the cell below the function.\n",
    "\n",
    "The tests call the function with a few different inputs.  If the function is not correct, they will give an `AssertionError`.  If the function appears to be correct, the test cell will run without error.\n",
    "\n",
    "The starter code for each function includes a `return` which is just a\n",
    "placeholder for your code.\n",
    "\n",
    "It's OK if you do not complete all the functions, and there are some\n",
    "additional functions to try in the `google_string2` exercise.\n"
   ]
  },
  {
   "cell_type": "markdown",
   "id": "baabeb1d",
   "metadata": {},
   "source": [
    "## verbing\n",
    "\n",
    "Given a string, if its length is at least 3, add `'ing'` to its end. Unless it\n",
    "already ends in `'ing'`, in which case add `'ly'` instead. If the string length\n",
    "is less than 3, leave it unchanged. Return the resulting string."
   ]
  },
  {
   "cell_type": "code",
   "execution_count": 1,
   "id": "e8c19f84",
   "metadata": {
    "execution": {
     "iopub.execute_input": "2022-12-15T14:29:31.069421Z",
     "iopub.status.busy": "2022-12-15T14:29:31.069128Z",
     "iopub.status.idle": "2022-12-15T14:29:31.076601Z",
     "shell.execute_reply": "2022-12-15T14:29:31.076030Z"
    }
   },
   "outputs": [],
   "source": [
    "def verbing(s):\n",
    "    #- +++your code here+++\n",
    "    if len(s) >= 3:\n",
    "        if s[-3:] != 'ing':\n",
    "            s = s + 'ing'\n",
    "        else:\n",
    "            s = s + 'ly'\n",
    "    return s"
   ]
  },
  {
   "cell_type": "code",
   "execution_count": 2,
   "id": "463f7c6e",
   "metadata": {
    "execution": {
     "iopub.execute_input": "2022-12-15T14:29:31.079660Z",
     "iopub.status.busy": "2022-12-15T14:29:31.079425Z",
     "iopub.status.idle": "2022-12-15T14:29:31.082497Z",
     "shell.execute_reply": "2022-12-15T14:29:31.081831Z"
    }
   },
   "outputs": [],
   "source": [
    "# Run this cell to test your function\n",
    "assert verbing('hail') == 'hailing'\n",
    "assert verbing('swimming') == 'swimmingly'\n",
    "assert verbing('do') == 'do'"
   ]
  },
  {
   "cell_type": "markdown",
   "id": "d6feba62",
   "metadata": {},
   "source": [
    "## not_bad\n",
    "\n",
    "Given a string, find the first appearance of the substring `'not'` and the\n",
    "first appearance of the substring `'bad'`.\n",
    "\n",
    "If the `'bad'` follows the `'not'`, replace the whole `'not'...'bad'` substring\n",
    "with `'good'`.\n",
    "\n",
    "Return the resulting string.\n",
    "\n",
    "So `'This dinner is not that bad!'` yields: `'This dinner is good!'`."
   ]
  },
  {
   "cell_type": "code",
   "execution_count": 3,
   "id": "cbc97ae4",
   "metadata": {
    "execution": {
     "iopub.execute_input": "2022-12-15T14:29:31.085733Z",
     "iopub.status.busy": "2022-12-15T14:29:31.085482Z",
     "iopub.status.idle": "2022-12-15T14:29:31.089007Z",
     "shell.execute_reply": "2022-12-15T14:29:31.088410Z"
    }
   },
   "outputs": [],
   "source": [
    "def not_bad(s):\n",
    "    #- +++your code here+++\n",
    "    n = s.find('not')\n",
    "    b = s.find('bad')\n",
    "    if n != -1 and b != -1 and b > n:\n",
    "      s = s[:n] + 'good' + s[b+3:]\n",
    "    return s"
   ]
  },
  {
   "cell_type": "code",
   "execution_count": 4,
   "id": "fbed5ce3",
   "metadata": {
    "execution": {
     "iopub.execute_input": "2022-12-15T14:29:31.091893Z",
     "iopub.status.busy": "2022-12-15T14:29:31.091666Z",
     "iopub.status.idle": "2022-12-15T14:29:31.094760Z",
     "shell.execute_reply": "2022-12-15T14:29:31.094211Z"
    }
   },
   "outputs": [],
   "source": [
    "# Run this cell to test your function\n",
    "assert not_bad('This movie is not so bad') == 'This movie is good'\n",
    "assert not_bad('This dinner is not that bad!') == 'This dinner is good!'\n",
    "assert not_bad('This tea is not hot') == 'This tea is not hot'\n",
    "assert not_bad(\"It's bad yet not\") == \"It's bad yet not\""
   ]
  },
  {
   "cell_type": "markdown",
   "id": "b21c6bd4",
   "metadata": {},
   "source": [
    "## front_back\n",
    "\n",
    "Consider dividing a string into two halves.\n",
    "\n",
    "If the length is even, the front and back halves are the same length.\n",
    "\n",
    "If the length is odd, we'll say that the extra character goes in the front\n",
    "half. For example, in `'abcde'`, the front half is `'abc'`, the back half\n",
    "`'de'`.\n",
    "\n",
    "Given 2 strings, `a` and `b`, return a string of the form `a-front + b-front +\n",
    "a-back + b-back`\n",
    "\n",
    "**Hint**: you may want to use the `//` operator for integer division. So,\n",
    "`12 / 5` in Python is the usual floating point division, and gives 2.4, but `12\n",
    "// 5` is integer division, rounding towards 0 to the nearest integer, and gives\n",
    "2."
   ]
  },
  {
   "cell_type": "code",
   "execution_count": 5,
   "id": "ef85b7c7",
   "metadata": {
    "execution": {
     "iopub.execute_input": "2022-12-15T14:29:31.097715Z",
     "iopub.status.busy": "2022-12-15T14:29:31.097479Z",
     "iopub.status.idle": "2022-12-15T14:29:31.101460Z",
     "shell.execute_reply": "2022-12-15T14:29:31.100747Z"
    }
   },
   "outputs": [],
   "source": [
    "def front_back(a, b):\n",
    "    #- +++your code here+++\n",
    "    # Figure out the middle position of each string.\n",
    "    a_middle = len(a) // 2\n",
    "    b_middle = len(b) // 2\n",
    "    if len(a) % 2 == 1:  # add 1 if length is odd\n",
    "        a_middle = a_middle + 1\n",
    "    if len(b) % 2 == 1:\n",
    "        b_middle = b_middle + 1\n",
    "    return a[:a_middle] + b[:b_middle] + a[a_middle:] + b[b_middle:]"
   ]
  },
  {
   "cell_type": "code",
   "execution_count": 6,
   "id": "44b3e69f",
   "metadata": {
    "execution": {
     "iopub.execute_input": "2022-12-15T14:29:31.104495Z",
     "iopub.status.busy": "2022-12-15T14:29:31.104251Z",
     "iopub.status.idle": "2022-12-15T14:29:31.107247Z",
     "shell.execute_reply": "2022-12-15T14:29:31.106715Z"
    }
   },
   "outputs": [],
   "source": [
    "# Run this cell to test your function\n",
    "assert front_back('abcd', 'xy') == 'abxcdy'\n",
    "assert front_back('abcde', 'xyz') == 'abcxydez'\n",
    "assert front_back('Kitten', 'Donut') == 'KitDontenut'"
   ]
  },
  {
   "cell_type": "markdown",
   "id": "e69bf7b3",
   "metadata": {},
   "source": [
    "## That's it!\n",
    "\n",
    "You've finished the exercise."
   ]
  }
 ],
 "metadata": {
  "jupytext": {
   "cell_metadata_filter": "-all",
   "notebook_metadata_filter": "all,-language_info",
   "split_at_heading": true,
   "text_representation": {
    "extension": ".Rmd",
    "format_name": "rmarkdown",
    "format_version": "1.2",
    "jupytext_version": "1.13.7"
   }
  },
  "kernelspec": {
   "display_name": "Python 3",
   "language": "python",
   "name": "python3"
  },
  "language_info": {
   "codemirror_mode": {
    "name": "ipython",
    "version": 3
   },
   "file_extension": ".py",
   "mimetype": "text/x-python",
   "name": "python",
   "nbconvert_exporter": "python",
   "pygments_lexer": "ipython3",
   "version": "3.8.15"
  }
 },
 "nbformat": 4,
 "nbformat_minor": 5
}
